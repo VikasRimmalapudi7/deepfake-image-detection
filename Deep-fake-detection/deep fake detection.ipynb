{
 "cells": [
  {
   "cell_type": "code",
   "execution_count": 12,
   "id": "9e446712-b564-457d-b707-7e268c430727",
   "metadata": {
    "scrolled": true
   },
   "outputs": [],
   "source": [
    "import tensorflow as tf\n",
    "from tensorflow.keras.models import load_model\n",
    "from PIL import Image, ImageOps\n",
    "import numpy as np\n",
    "import matplotlib.pyplot as plt\n",
    "import warnings\n",
    "import os\n",
    "warnings.filterwarnings('ignore', category=UserWarning)"
   ]
  },
  {
   "cell_type": "code",
   "execution_count": 13,
   "id": "acf789d7-c074-4e6c-9d28-ee657872124a",
   "metadata": {},
   "outputs": [],
   "source": [
    "# Custom layer handling for DepthwiseConv2D\n",
    "class CustomDepthwiseConv2D(tf.keras.layers.DepthwiseConv2D):\n",
    "    def __init__(self, *args, **kwargs):\n",
    "        # Remove the 'groups' argument if present\n",
    "        kwargs.pop('groups', None)\n",
    "        super().__init__(*args, **kwargs)\n",
    "\n",
    "# Register the custom layer\n",
    "tf.keras.utils.get_custom_objects()['expanded_conv_depthwise'] = CustomDepthwiseConv2D"
   ]
  },
  {
   "cell_type": "code",
   "execution_count": 14,
   "id": "bea93fc6-0e78-4baa-ad81-2f6994de8dea",
   "metadata": {},
   "outputs": [],
   "source": [
    "def load_deepfake_model(model_path):\n",
    "    try:\n",
    "        model = load_model(model_path, \n",
    "                           custom_objects={\n",
    "                               'DepthwiseConv2D': CustomDepthwiseConv2D\n",
    "                           }, \n",
    "                           compile=False)\n",
    "        return model\n",
    "    except Exception as e:\n",
    "        print(f\"Error loading model: {e}\")\n",
    "        return None"
   ]
  },
  {
   "cell_type": "code",
   "execution_count": 15,
   "id": "39f239d9-1c27-4165-b228-dd09212d3d78",
   "metadata": {},
   "outputs": [],
   "source": [
    "def deepfake_detection(model_path, image_path):\n",
    "    \"\"\"\n",
    "    Perform deepfake detection on a single image\n",
    "    \n",
    "    Args:\n",
    "        model_path (str): Path to the .h5 model file\n",
    "        image_path (str): Path to the image file\n",
    "    \"\"\"\n",
    "    # Load the model\n",
    "    model = load_deepfake_model(model_path)\n",
    "    if model is None:\n",
    "        print(\"Model could not be loaded. Exiting.\")\n",
    "        return\n",
    "\n",
    "    # Define class names (modify as per your model's output)\n",
    "    class_names = ['Real', 'Fake']  # Adjust based on your actual classes\n",
    "\n",
    "    # Prepare data array\n",
    "    data = np.ndarray(shape=(1, 224, 224, 3), dtype=np.float32)\n",
    "\n",
    "    try:\n",
    "        # Open and prepare image\n",
    "        image = Image.open(image_path).convert('RGB')\n",
    "        \n",
    "        # Resize and crop image\n",
    "        size = (224, 224)\n",
    "        image = ImageOps.fit(image, size, Image.Resampling.LANCZOS)\n",
    "        \n",
    "        # Convert to numpy array\n",
    "        image_array = np.asarray(image)\n",
    "        \n",
    "        # Normalize the image\n",
    "        normalized_image_array = (image_array.astype(np.float32) / 127.0) - 1\n",
    "        \n",
    "        # Load the image into the array\n",
    "        data[0] = normalized_image_array\n",
    "        \n",
    "        # Predict\n",
    "        prediction = model.predict(data)\n",
    "        index = np.argmax(prediction)\n",
    "        class_name = class_names[index]\n",
    "        confidence_score = prediction[0][index]\n",
    "        \n",
    "        # Display results\n",
    "        plt.figure(figsize=(10, 5))\n",
    "        plt.subplot(1, 2, 1)\n",
    "        plt.imshow(image)\n",
    "        plt.title('Original Image')\n",
    "        plt.axis('off')\n",
    "        \n",
    "        plt.subplot(1, 2, 2)\n",
    "        plt.bar(class_names, prediction[0])\n",
    "        plt.title(f'Prediction: {class_name}\\nConfidence: {confidence_score:.2f}')\n",
    "        plt.ylabel('Probability')\n",
    "        \n",
    "        plt.tight_layout()\n",
    "        plt.show()\n",
    "        \n",
    "        # Print results\n",
    "        print('Predicted Class:', class_name)\n",
    "        print('Confidence Score:', confidence_score)\n",
    "    \n",
    "    except FileNotFoundError:\n",
    "        print(\"Image not found. Please check the file path.\")\n",
    "    except Exception as e:\n",
    "        print(f\"Error processing image: {e}\")\n"
   ]
  },
  {
   "cell_type": "code",
   "execution_count": null,
   "id": "860032a6-d2a3-4d0f-9531-137ad299f34f",
   "metadata": {},
   "outputs": [
    {
     "name": "stdout",
     "output_type": "stream",
     "text": [
      "Processing download-_1_.jpg...\n"
     ]
    }
   ],
   "source": [
    "# Usage example\n",
    "if __name__ == \"__main__\":\n",
    "    MODEL_PATH = 'deepfakemodel.h5'\n",
    "    INPUT_FOLDER = './inputs'\n",
    "\n",
    "    # Iterate through all .jpg files in the ./inputs folder\n",
    "    for image_file in os.listdir(INPUT_FOLDER):\n",
    "        if image_file.endswith('.jpg'):\n",
    "            image_path = os.path.join(INPUT_FOLDER, image_file)\n",
    "            print(f\"Processing {image_file}...\")\n",
    "            deepfake_detection(MODEL_PATH, image_path)"
   ]
  },
  {
   "cell_type": "code",
   "execution_count": null,
   "id": "c42cfcb4-ec79-4d55-8180-cf1b9cd29e39",
   "metadata": {},
   "outputs": [],
   "source": []
  },
  {
   "cell_type": "code",
   "execution_count": null,
   "id": "50002461-cafe-4855-bc8d-0c28f5e707e1",
   "metadata": {},
   "outputs": [],
   "source": []
  }
 ],
 "metadata": {
  "kernelspec": {
   "display_name": "Python 3 (ipykernel)",
   "language": "python",
   "name": "python3"
  },
  "language_info": {
   "codemirror_mode": {
    "name": "ipython",
    "version": 3
   },
   "file_extension": ".py",
   "mimetype": "text/x-python",
   "name": "python",
   "nbconvert_exporter": "python",
   "pygments_lexer": "ipython3",
   "version": "3.12.2"
  }
 },
 "nbformat": 4,
 "nbformat_minor": 5
}
